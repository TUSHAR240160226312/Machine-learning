{
 "cells": [
  {
   "cell_type": "code",
   "execution_count": 1,
   "id": "e0e01281-7d51-41db-a477-0b773537ed8e",
   "metadata": {},
   "outputs": [
    {
     "name": "stdout",
     "output_type": "stream",
     "text": [
      "SVM Accuracy: 100.00%\n",
      "Predicted: Dog (73.81% confidence)\n"
     ]
    }
   ],
   "source": [
    "import numpy as np\n",
    "from sklearn.svm import SVC\n",
    "from sklearn.model_selection import train_test_split\n",
    "from sklearn.metrics import accuracy_score\n",
    "\n",
    "# Simulated features for cats and dogs\n",
    "# Imagine each row is a flattened image feature vector (5 features per sample)\n",
    "X = np.array([\n",
    "    [1, 2, 3, 4, 5],  # Cat\n",
    "    [1, 1, 3, 3, 5],  # Cat\n",
    "    [2, 2, 3, 4, 4],  # Cat\n",
    "    [9, 8, 7, 6, 5],  # Dog\n",
    "    [8, 9, 7, 5, 6],  # Dog\n",
    "    [10, 9, 8, 7, 6]  # Dog\n",
    "])\n",
    "\n",
    "y = np.array([0, 0, 0, 1, 1, 1])  # 0 = Cat, 1 = Dog\n",
    "\n",
    "# Train-test split\n",
    "X_train, X_test, y_train, y_test = train_test_split(X, y, test_size=0.3, random_state=42)\n",
    "\n",
    "# Train SVM\n",
    "svm = SVC(kernel='linear', probability=True)\n",
    "svm.fit(X_train, y_train)\n",
    "\n",
    "# Evaluate\n",
    "y_pred = svm.predict(X_test)\n",
    "accuracy = accuracy_score(y_test, y_pred)\n",
    "print(f\"SVM Accuracy: {accuracy * 100:.2f}%\")\n",
    "\n",
    "# Test on a new sample\n",
    "new_sample = np.array([[9, 9, 8, 7, 6]])  # new unknown image features\n",
    "pred = svm.predict(new_sample)[0]\n",
    "prob = svm.predict_proba(new_sample)[0][pred]\n",
    "labels = ['Cat', 'Dog']\n",
    "\n",
    "print(f\"Predicted: {labels[pred]} ({prob*100:.2f}% confidence)\")\n"
   ]
  },
  {
   "cell_type": "code",
   "execution_count": null,
   "id": "2004369f-db37-4707-975c-4fae00b8ef6f",
   "metadata": {},
   "outputs": [],
   "source": []
  }
 ],
 "metadata": {
  "kernelspec": {
   "display_name": "Python 3 (ipykernel)",
   "language": "python",
   "name": "python3"
  },
  "language_info": {
   "codemirror_mode": {
    "name": "ipython",
    "version": 3
   },
   "file_extension": ".py",
   "mimetype": "text/x-python",
   "name": "python",
   "nbconvert_exporter": "python",
   "pygments_lexer": "ipython3",
   "version": "3.13.2"
  }
 },
 "nbformat": 4,
 "nbformat_minor": 5
}
