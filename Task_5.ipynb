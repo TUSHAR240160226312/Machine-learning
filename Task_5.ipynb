{
 "cells": [
  {
   "cell_type": "code",
   "execution_count": 6,
   "id": "4b8c7914-128c-4b17-b130-a0e2c940db58",
   "metadata": {},
   "outputs": [
    {
     "name": "stdout",
     "output_type": "stream",
     "text": [
      "Folder not found: dataset\\Pizza\n",
      "Folder not found: dataset\\Apple\n",
      "Folder not found: dataset\\Burger\n",
      "Folder not found: dataset\\Salad\n",
      "Folder not found: dataset\\Fries\n"
     ]
    },
    {
     "ename": "IndexError",
     "evalue": "tuple index out of range",
     "output_type": "error",
     "traceback": [
      "\u001b[1;31m---------------------------------------------------------------------------\u001b[0m",
      "\u001b[1;31mIndexError\u001b[0m                                Traceback (most recent call last)",
      "Cell \u001b[1;32mIn[6], line 47\u001b[0m\n\u001b[0;32m     44\u001b[0m X \u001b[38;5;241m=\u001b[39m np\u001b[38;5;241m.\u001b[39marray(X)\n\u001b[0;32m     45\u001b[0m y \u001b[38;5;241m=\u001b[39m np\u001b[38;5;241m.\u001b[39marray(y)\n\u001b[1;32m---> 47\u001b[0m \u001b[38;5;28mprint\u001b[39m(\u001b[38;5;124mf\u001b[39m\u001b[38;5;124m\"\u001b[39m\u001b[38;5;124mLoaded \u001b[39m\u001b[38;5;132;01m{\u001b[39;00m\u001b[38;5;28mlen\u001b[39m(X)\u001b[38;5;132;01m}\u001b[39;00m\u001b[38;5;124m images. Each sample has \u001b[39m\u001b[38;5;132;01m{\u001b[39;00m\u001b[43mX\u001b[49m\u001b[38;5;241;43m.\u001b[39;49m\u001b[43mshape\u001b[49m\u001b[43m[\u001b[49m\u001b[38;5;241;43m1\u001b[39;49m\u001b[43m]\u001b[49m\u001b[38;5;132;01m}\u001b[39;00m\u001b[38;5;124m features.\u001b[39m\u001b[38;5;124m\"\u001b[39m)\n\u001b[0;32m     49\u001b[0m \u001b[38;5;66;03m# Train/test split\u001b[39;00m\n\u001b[0;32m     50\u001b[0m X_train, X_test, y_train, y_test \u001b[38;5;241m=\u001b[39m train_test_split(X, y, test_size\u001b[38;5;241m=\u001b[39m\u001b[38;5;241m0.2\u001b[39m, random_state\u001b[38;5;241m=\u001b[39m\u001b[38;5;241m42\u001b[39m)\n",
      "\u001b[1;31mIndexError\u001b[0m: tuple index out of range"
     ]
    }
   ],
   "source": [
    "import numpy as np\n",
    "from sklearn.ensemble import RandomForestClassifier\n",
    "import matplotlib.pyplot as plt\n",
    "\n",
    "# Example: 3 food classes\n",
    "food_classes = ['Pizza', 'Burger', 'Fries']\n",
    "calorie_map = {'Pizza': 266, 'Burger': 295, 'Fries': 312}\n",
    "\n",
    "# Simulated training data (features are random numbers for demo)\n",
    "# Imagine: each feature array represents a simplified image feature\n",
    "X_train = np.array([\n",
    "    [1, 2, 3, 4, 5],    # Pizza\n",
    "    [2, 3, 4, 5, 6],    # Pizza\n",
    "    [10, 9, 8, 7, 6],   # Burger\n",
    "    [9, 8, 7, 6, 5],    # Burger\n",
    "    [20, 21, 22, 23, 24],  # Fries\n",
    "    [21, 22, 23, 24, 25],  # Fries\n",
    "])\n",
    "\n",
    "y_train = np.array([0, 0, 1, 1, 2, 2])  # Labels: 0=Pizza, 1=Burger, 2=Fries\n",
    "\n",
    "# Train classifier\n",
    "clf = RandomForestClassifier(n_estimators=10, random_state=42)\n",
    "clf.fit(X_train, y_train)\n",
    "\n",
    "# Simulate new prediction\n",
    "X_test = np.array([[19, 20, 21, 22, 23]])  # New sample to classify\n",
    "\n",
    "pred = clf.predict(X_test)[0]\n",
    "food_name = food_classes[pred]\n",
    "calories = calorie_map[food_name]\n",
    "prob = clf.predict_proba(X_test)[0][pred]\n",
    "\n",
    "print(f\"Predicted food: {food_name}\")\n",
    "print(f\"Calories: {calories} kcal\")\n",
    "print(f\"Confidence: {prob * 100:.2f}%\")\n"
   ]
  },
  {
   "cell_type": "code",
   "execution_count": null,
   "id": "6adc679e-6fb3-4dc7-968e-246fc918ebbd",
   "metadata": {},
   "outputs": [],
   "source": []
  }
 ],
 "metadata": {
  "kernelspec": {
   "display_name": "Python 3 (ipykernel)",
   "language": "python",
   "name": "python3"
  },
  "language_info": {
   "codemirror_mode": {
    "name": "ipython",
    "version": 3
   },
   "file_extension": ".py",
   "mimetype": "text/x-python",
   "name": "python",
   "nbconvert_exporter": "python",
   "pygments_lexer": "ipython3",
   "version": "3.13.2"
  }
 },
 "nbformat": 4,
 "nbformat_minor": 5
}
